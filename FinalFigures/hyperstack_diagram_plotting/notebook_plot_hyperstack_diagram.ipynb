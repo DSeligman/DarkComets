{
 "cells": [
  {
   "cell_type": "code",
   "execution_count": 40,
   "id": "f68f9165",
   "metadata": {},
   "outputs": [
    {
     "name": "stderr",
     "output_type": "stream",
     "text": [
      "/var/folders/tf/hszq26_12053sq83srkrc3m40000gn/T/ipykernel_8535/4026823169.py:7: DeprecationWarning: `photutils.CircularAnnulus` is a deprecated alias for `photutils.aperture.CircularAnnulus` and will be removed in the future. Instead, please use `from photutils.aperture import CircularAnnulus` to silence this warning.\n",
      "  from photutils import CircularAnnulus\n"
     ]
    }
   ],
   "source": [
    "import os\n",
    "import time,datetime\n",
    "import math\n",
    "import numpy as np\n",
    "from astropy.io import fits\n",
    "from astropy.visualization import simple_norm\n",
    "from photutils import CircularAnnulus\n",
    "import matplotlib.pyplot as plt\n",
    "from matplotlib.ticker import NullFormatter\n",
    "nullfmt   = NullFormatter()         # no labels\n",
    "\n",
    "COLOR = 'k'#'#FFFAF1'\n",
    "plt.rcParams['font.size'] = 9\n",
    "plt.rcParams['text.color'] = COLOR\n",
    "plt.rcParams['axes.labelcolor'] = COLOR\n",
    "plt.rcParams['xtick.color'] = COLOR\n",
    "plt.rcParams['ytick.color'] = COLOR\n",
    "\n",
    "plt.rcParams['xtick.major.width'] = 1.5\n",
    "plt.rcParams['ytick.major.width'] = 1.5\n",
    "plt.rcParams['xtick.major.size']  = 5 #12\n",
    "plt.rcParams['ytick.major.size']  = 5#12\n",
    "\n",
    "plt.rcParams['xtick.minor.width'] = 1\n",
    "plt.rcParams['ytick.minor.width'] = 1\n",
    "plt.rcParams['xtick.minor.size']  = 8\n",
    "plt.rcParams['ytick.minor.size']  = 8\n",
    "\n",
    "plt.rcParams['axes.linewidth'] = .5\n",
    "\n",
    "plt.rcParams['text.color'] = COLOR\n",
    "plt.rcParams['xtick.color'] = COLOR\n",
    "plt.rcParams['ytick.color'] = COLOR\n",
    "plt.rcParams['axes.labelcolor'] = COLOR\n",
    "#plt.rcParams['axes.spines.top'] = False\n",
    "#plt.rcParams['axes.spines.right'] = False\n",
    "plt.rcParams['axes.labelcolor'] = COLOR\n",
    "plt.rcParams['axes.edgecolor'] = COLOR\n",
    "plt.rcParams['figure.facecolor'] = 'none'\n",
    "plt.rcParams['legend.facecolor'] = 'none'\n",
    "from matplotlib.gridspec import GridSpec\n",
    "from matplotlib.colors import ListedColormap, LinearSegmentedColormap\n",
    "from mpl_toolkits.axes_grid1 import make_axes_locatable\n"
   ]
  },
  {
   "cell_type": "code",
   "execution_count": 95,
   "id": "fb3fa521",
   "metadata": {},
   "outputs": [],
   "source": [
    "def plot_hyperstack_diagram(base_path):\n",
    "    plot_filepath = base_path + 'fig_hyperstack_diagrams.pdf'\n",
    "    \n",
    "    # Define panel positions/sizes\n",
    "#     rect_plot = {'obj': {'as': {'image':[0.120,0.575,0.150,0.150],'wedge_diagram':[0.275,0.575,0.150,0.150]},\n",
    "#                          'nhv':{'image':[0.120,0.255,0.150,0.150],'wedge_diagram':[0.275,0.255,0.150,0.150]}},\n",
    "#                  'star':{'as': {'image':[0.120,0.420,0.150,0.150],'wedge_diagram':[0.275,0.420,0.150,0.150]},\n",
    "#                          'nhv':{'image':[0.120,0.100,0.150,0.150],'wedge_diagram':[0.275,0.100,0.150,0.150]}}}\n",
    "    rect_plot = {'obj': {'as': {'image':[0.00,0.6,0.190,0.190],'wedge_diagram':[0.2,0.6,0.190,0.190]},\n",
    "                         'nhv':{'image':[0.00,0.2,0.190,0.190],'wedge_diagram':[0.2,0.2,0.190,0.190]}},\n",
    "                 'star':{'as': {'image':[0.00,0.4,0.190,0.190],'wedge_diagram':[0.2,0.40,0.190,0.190]},\n",
    "                         'nhv':{'image':[0.00,0.00,0.190,0.190],'wedge_diagram':[0.2,0.00,0.190,0.190]}}}\n",
    "#     axPlot    = {'obj': {'as': {'image':0,'img_overlay':0,'wedge_diagram':0},\n",
    "#                          'nhv':{'image':0,'img_overlay':0,'wedge_diagram':0}},\n",
    "#                  'star':{'as': {'image':0,'img_overlay':0,'wedge_diagram':0},\n",
    "#                          'nhv':{'image':0,'img_overlay':0,'wedge_diagram':0}}}\n",
    "    axPlot    = {'obj': {'as': {'image':[0.00,0.6,0.190,0.190],'img_overlay':[0.00,0.6,0.190,0.190],'wedge_diagram':[0.00,0.6,0.190,0.190]},\n",
    "                         'nhv':{'image':[0.00,0.6,0.190,0.190],'img_overlay':[0.00,0.6,0.190,0.190],'wedge_diagram':[0.00,0.6,0.190,0.190]}},\n",
    "                 'star':{'as': {'image':[0.00,0.6,0.190,0.190],'img_overlay':[0.00,0.6,0.190,0.190],'wedge_diagram':[0.00,0.6,0.190,0.190]},\n",
    "                         'nhv':{'image':[0.00,0.6,0.190,0.190],'img_overlay':[0.00,0.6,0.190,0.190],'wedge_diagram':[0.00,0.6,0.190,0.190]}}}             \n",
    "    # Define panel text\n",
    "    letter_label    = {'obj': {'as':'(a)','nhv':'(c)'},'star':{'as':'(b)','nhv':'(d)'}}\n",
    "    image_label     = {'obj':'Targeted objects','star':'Reference stars'}\n",
    "    alignment_label = {'as':r'-$\\odot$','nhv':r'-$v$'}\n",
    "    \n",
    "    # Set figure size\n",
    "    cm = 1/2.54  # centimeters in inches\n",
    "    plt.figure(1,figsize=(8.7*cm,10*cm),tight_layout=False)#,gridspec_kw={'hspace': 0.35, 'wspace': 0.3})\n",
    "    #plt.figure(1,figsize=(16,16))\n",
    "    #fig, axs = plt.subplots(1, 1, tight_layout=False,figsize=(8.7*cm,8.7*cm),sharex=False,sharey=False\n",
    "                      # ,gridspec_kw={'hspace': 0.35, 'wspace': 0.3})\n",
    "\n",
    "    # Define formatting presets\n",
    "    props1          = dict(boxstyle='round,pad=0.05',facecolor='none',alpha=0.8,edgecolor='none')\n",
    "    props2          = dict(boxstyle='round,pad=0.10',facecolor='none',alpha=0.8,edgecolor='none')\n",
    "    fs=6\n",
    "    linewidth=0.5\n",
    "    for target in ['obj','star']:\n",
    "        for alignment in ['as','nhv']:\n",
    "            # Create image panels\n",
    "            axPlot[target][alignment]['image']       = plt.axes(rect_plot[target][alignment]['image'])\n",
    "            axPlot[target][alignment]['img_overlay'] = plt.axes(rect_plot[target][alignment]['image'])\n",
    "            image_filepath = base_path + 'darkcomets.hyperstack.median.{:s}.bgsub.rot.{:s}.png'.format(target,alignment)\n",
    "            image = plt.imread(image_filepath)\n",
    "            axPlot[target][alignment]['image'].imshow(image)\n",
    "            axPlot[target][alignment]['img_overlay'].text(0.03,0.800,letter_label[target][alignment],fontsize=6,transform=axPlot[target][alignment]['image'].transAxes,bbox=props2,zorder=2)\n",
    "            axPlot[target][alignment]['img_overlay'].set_xlim([-1,1])\n",
    "            axPlot[target][alignment]['img_overlay'].set_ylim([-1,1])\n",
    "            axPlot[target][alignment]['image'].xaxis.set_major_formatter(nullfmt)\n",
    "            axPlot[target][alignment]['image'].yaxis.set_major_formatter(nullfmt)\n",
    "            axPlot[target][alignment]['image'].tick_params(axis='both',which='both',bottom=False,top=False,left=False,right=False)\n",
    "            axPlot[target][alignment]['img_overlay'].xaxis.set_major_formatter(nullfmt)\n",
    "            axPlot[target][alignment]['img_overlay'].yaxis.set_major_formatter(nullfmt)\n",
    "            axPlot[target][alignment]['img_overlay'].tick_params(axis='both',which='both',bottom=False,top=False,left=False,right=False)\n",
    "            axPlot[target][alignment]['img_overlay'].arrow(0.3,0.0,0.4,0.0,head_width=0.1,head_length=0.1,lw=linewidth,ec='black',fc='black')\n",
    "            axPlot[target][alignment]['img_overlay'].text(0.43,0.07,alignment_label[alignment],fontsize=4,bbox=props1,zorder=2)\n",
    "            axPlot[target][alignment]['img_overlay'].text(0.25,0.05,image_label[target],fontsize=4,transform=axPlot[target][alignment]['image'].transAxes,bbox=props2,zorder=2)\n",
    "            axPlot[target][alignment]['img_overlay'].axis('off')\n",
    "            # Generate wedge diagram panels\n",
    "            axPlot[target][alignment]['wedge_diagram'] = plt.axes(rect_plot[target][alignment]['wedge_diagram'])\n",
    "            fits_image_filepath = base_path + 'darkcomets.hyperstack.median.{:s}.bgsub.rot.{:s}.0.fits'.format(target,alignment)\n",
    "            \n",
    "            # Read in FITS data\n",
    "            with fits.open(fits_image_filepath) as hdu:\n",
    "                data_yx_adu       = hdu[0].data\n",
    "                numpix_y,numpix_x = data_yx_adu.shape\n",
    "\n",
    "            # Set wedge diagram parameters\n",
    "            pixscale               = 0.2637\n",
    "            central_radius_arcsec  = 4\n",
    "            radius_inner_arcsec    = 5\n",
    "            radius_outer_arcsec    = 15\n",
    "            angle_interval_deg     = 15\n",
    "            start_angle            = 0\n",
    "            image_half_size_arcsec = radius_outer_arcsec + 1.5\n",
    "            image_half_size_pix    = image_half_size_arcsec / pixscale\n",
    "            radius_inner_pix       = radius_inner_arcsec/pixscale\n",
    "            radius_outer_pix       = radius_outer_arcsec/pixscale\n",
    "            positions              = [(int((numpix_x-1)/2),int((numpix_y-1)/2))]\n",
    "\n",
    "            # Compute individual wedge parameters\n",
    "            num_wedges          = int(360 / angle_interval_deg)\n",
    "            wedge_angle_start   = [0 for idx in range(num_wedges)]\n",
    "            wedge_angle_end     = [0 for idx in range(num_wedges)] \n",
    "            wedge_az_angle      = [0 for idx in range(num_wedges)] \n",
    "            for idx in range(num_wedges):\n",
    "                wedge_angle_start[idx] = start_angle + (angle_interval_deg * idx) - angle_interval_deg / 2\n",
    "                wedge_angle_end[idx]   = start_angle + (angle_interval_deg * (idx+1)) - angle_interval_deg / 2\n",
    "                wedge_az_angle[idx]    = (start_angle + (angle_interval_deg * idx)) % 360\n",
    "\n",
    "            # Create wedge diagram\n",
    "            annulus_aperture = CircularAnnulus(positions,r_in=radius_inner_pix,r_out=radius_outer_pix)\n",
    "            for idx in range(len(wedge_angle_start)):\n",
    "                x_start = int((numpix_x-1)/2) + radius_inner_pix * math.cos((wedge_angle_start[idx]+90)%360/180*math.pi)\n",
    "                y_start = int((numpix_y-1)/2) + radius_inner_pix * math.sin((wedge_angle_start[idx]+90)%360/180*math.pi)\n",
    "                x_end   = int((numpix_x-1)/2) + radius_outer_pix * math.cos((wedge_angle_start[idx]+90)%360/180*math.pi)\n",
    "                y_end   = int((numpix_y-1)/2) + radius_outer_pix * math.sin((wedge_angle_start[idx]+90)%360/180*math.pi)\n",
    "                xcoords = [x_start,x_end]\n",
    "                ycoords = [y_start,y_end]\n",
    "                plt.plot(xcoords,ycoords,color='#ff0000',lw=linewidth,ls='-')\n",
    "            ann_patches = annulus_aperture.plot(color='red',lw=linewidth,label='Background annulus')\n",
    "\n",
    "            # Display background image\n",
    "            norm = simple_norm(data_yx_adu,'sqrt',percent=99)\n",
    "            plt.imshow(data_yx_adu,cmap='gray',norm=norm,interpolation='nearest')\n",
    "            plt.xlim(int((numpix_x-1)/2)-image_half_size_pix,int((numpix_x-1)/2)+image_half_size_pix)\n",
    "            plt.ylim(int((numpix_y-1)/2)-image_half_size_pix,int((numpix_y-1)/2)+image_half_size_pix)\n",
    "\n",
    "            # Turn off axis labels and ticks\n",
    "            axPlot[target][alignment]['wedge_diagram'].xaxis.set_major_formatter(nullfmt)\n",
    "            axPlot[target][alignment]['wedge_diagram'].yaxis.set_major_formatter(nullfmt)\n",
    "            axPlot[target][alignment]['wedge_diagram'].tick_params(axis='both',which='both',bottom=False,top=False,left=False,right=False)\n",
    "            \n",
    "    plt.savefig(plot_filepath,format='pdf',transparent=True,dpi=600,bbox_inches='tight')\n",
    "    #plt.savefig('Figure10_Observability_Vector.pdf',\n",
    "     #       format='pdf',bbox_inches='tight', dpi=600)\n",
    "    plt.clf()\n",
    "    plt.cla()\n",
    "    plt.close()\n",
    "\n",
    "    print('{:s} - >> Plotting complete.'.format(datetime.datetime.today().strftime('%Y-%m-%d %H:%M:%S')))\n",
    "    return None\n"
   ]
  },
  {
   "cell_type": "code",
   "execution_count": 96,
   "id": "29bdd63b",
   "metadata": {},
   "outputs": [
    {
     "name": "stdout",
     "output_type": "stream",
     "text": [
      "2024-07-10 06:56:04 - >> Plotting complete.\n"
     ]
    }
   ],
   "source": [
    "base_path = '/Users/darrylseligman/Dark_Comets/NewDarkComets/FinalFigures/hyperstack_diagram_plotting/'\n",
    "plot_hyperstack_diagram(base_path)\n"
   ]
  },
  {
   "cell_type": "code",
   "execution_count": 30,
   "id": "ce9930f7",
   "metadata": {},
   "outputs": [
    {
     "data": {
      "text/plain": [
       "'/Users/darrylseligman/Dark_Comets/NewDarkComets/FinalFigures/hyperstack_diagram_plotting'"
      ]
     },
     "execution_count": 30,
     "metadata": {},
     "output_type": "execute_result"
    }
   ],
   "source": [
    "pwd"
   ]
  },
  {
   "cell_type": "code",
   "execution_count": 31,
   "id": "ca3c8c5b",
   "metadata": {},
   "outputs": [
    {
     "name": "stdout",
     "output_type": "stream",
     "text": [
      "darkcomets.hyperstack.median.obj.bgsub.rot.as.0.fits\r\n",
      "darkcomets.hyperstack.median.obj.bgsub.rot.as.png\r\n",
      "darkcomets.hyperstack.median.obj.bgsub.rot.nhv.0.fits\r\n",
      "darkcomets.hyperstack.median.obj.bgsub.rot.nhv.png\r\n",
      "darkcomets.hyperstack.median.star.bgsub.rot.as.0.fits\r\n",
      "darkcomets.hyperstack.median.star.bgsub.rot.as.png\r\n",
      "darkcomets.hyperstack.median.star.bgsub.rot.nhv.0.fits\r\n",
      "darkcomets.hyperstack.median.star.bgsub.rot.nhv.png\r\n",
      "fig_hyperstack_diagrams.pdf\r\n",
      "notebook_plot_hyperstack_diagram.ipynb\r\n"
     ]
    }
   ],
   "source": [
    "ls"
   ]
  },
  {
   "cell_type": "code",
   "execution_count": null,
   "id": "48f4e4b8",
   "metadata": {},
   "outputs": [],
   "source": []
  }
 ],
 "metadata": {
  "kernelspec": {
   "display_name": "Python 3 (ipykernel)",
   "language": "python",
   "name": "python3"
  },
  "language_info": {
   "codemirror_mode": {
    "name": "ipython",
    "version": 3
   },
   "file_extension": ".py",
   "mimetype": "text/x-python",
   "name": "python",
   "nbconvert_exporter": "python",
   "pygments_lexer": "ipython3",
   "version": "3.9.13"
  }
 },
 "nbformat": 4,
 "nbformat_minor": 5
}

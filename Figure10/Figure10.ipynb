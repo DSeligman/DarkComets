{
 "cells": [
  {
   "cell_type": "code",
   "execution_count": 1,
   "id": "1a16169e",
   "metadata": {},
   "outputs": [],
   "source": [
    "%matplotlib inline\n",
    "import sys,os,glob,subprocess\n",
    "import datetime\n",
    "import math\n",
    "import numpy as np\n",
    "import matplotlib\n",
    "import matplotlib.pyplot as plt\n",
    "\n",
    "import numpy as np\n",
    "%matplotlib inline\n",
    "from astropy import units\n",
    "from astropy import constants\n",
    "from astropy.table import Table\n",
    "import matplotlib.pyplot as plt\n",
    "\n",
    "from matplotlib.colors import LogNorm\n",
    "\n",
    "COLOR = 'k'#'#FFFAF1'\n",
    "plt.rcParams['font.size'] = 9\n",
    "plt.rcParams['text.color'] = COLOR\n",
    "plt.rcParams['axes.labelcolor'] = COLOR\n",
    "plt.rcParams['xtick.color'] = COLOR\n",
    "plt.rcParams['ytick.color'] = COLOR\n",
    "\n",
    "plt.rcParams['xtick.major.width'] = 1.5\n",
    "plt.rcParams['ytick.major.width'] = 1.5\n",
    "plt.rcParams['xtick.major.size']  = 5 #12\n",
    "plt.rcParams['ytick.major.size']  = 5#12\n",
    "\n",
    "plt.rcParams['xtick.minor.width'] = 1\n",
    "plt.rcParams['ytick.minor.width'] = 1\n",
    "plt.rcParams['xtick.minor.size']  = 3\n",
    "plt.rcParams['ytick.minor.size']  = 3\n",
    "\n",
    "plt.rcParams['axes.linewidth'] = 1.5\n",
    "\n",
    "plt.rcParams['text.color'] = COLOR\n",
    "plt.rcParams['xtick.color'] = COLOR\n",
    "plt.rcParams['ytick.color'] = COLOR\n",
    "plt.rcParams['axes.labelcolor'] = COLOR\n",
    "#plt.rcParams['axes.spines.top'] = False\n",
    "#plt.rcParams['axes.spines.right'] = False\n",
    "plt.rcParams['axes.labelcolor'] = COLOR\n",
    "plt.rcParams['axes.edgecolor'] = COLOR\n",
    "plt.rcParams['figure.facecolor'] = 'none'\n",
    "plt.rcParams['legend.facecolor'] = 'none'\n",
    "from matplotlib.gridspec import GridSpec\n",
    "\n",
    "\n",
    "\n"
   ]
  },
  {
   "cell_type": "code",
   "execution_count": 2,
   "id": "55382cf9",
   "metadata": {},
   "outputs": [],
   "source": [
    "def plot_sbps_eta_sequence(axPlot,base_path,stellar_psf_file,obj_sbp_file,objname,eta_list,x_min,x_max,x_major,x_minor,y_min,y_max):\n",
    "    # Generate final plot\n",
    "    print('{:s} - Generating plot of eta sequence...'.format(datetime.datetime.today().strftime('%Y-%m-%d %H:%M:%S')))\n",
    "    plotfile = base_path + 'fig_eta_sequence_{:s}'.format(stellar_psf_file[:-5])\n",
    "    rect_plot = [0.12,0.12,0.70,0.80]\n",
    "    majorFormatter0 = matplotlib.ticker.FormatStrFormatter('%d')\n",
    "    majorFormatter1 = matplotlib.ticker.FormatStrFormatter('%.1f')\n",
    "    majorFormatter3 = matplotlib.ticker.FormatStrFormatter('%.3f')\n",
    "    xlim = [x_min,x_max]\n",
    "    ylim = [y_min,y_max]\n",
    "    xlabel = 'Angular Distance From Photocenter [\\'\\']'\n",
    "    ylabel = 'Normalized Surface Brightness'\n",
    "\n",
    "    #axPlot = plt.axes(rect_plot)\n",
    "\n",
    "    dist_photocenter_obj   = np.genfromtxt(base_path+obj_sbp_file,skip_header=0,usecols=(0))\n",
    "    sb_normalized_obj      = np.genfromtxt(base_path+obj_sbp_file,skip_header=0,usecols=(1))\n",
    "    sb_normalized_err_obj  = np.genfromtxt(base_path+obj_sbp_file,skip_header=0,usecols=(2))\n",
    "    axPlot.plot(dist_photocenter_obj,sb_normalized_obj,lw=2,ls='-',color='#3a0ca3',label=objname,zorder=2)\n",
    "\n",
    "    for eta in eta_list:\n",
    "        modelcoma_plt_file = base_path + 'modelcoma_{:s}_{:.3f}.plt'.format(stellar_psf_file[:-5],eta)\n",
    "        dist_photocenter = np.genfromtxt(modelcoma_plt_file,skip_header=0,usecols=(0))\n",
    "        sb_normalized    = np.genfromtxt(modelcoma_plt_file,skip_header=0,usecols=(1))\n",
    "        if eta == eta_list[0]:\n",
    "            axPlot.plot(dist_photocenter,sb_normalized,lw=1,ls='-',color='#f72585',label=r'$\\eta={:.3f}$'.format(eta),zorder=1)\n",
    "        elif eta == eta_list[len(eta_list)-1]:\n",
    "            axPlot.plot(dist_photocenter,sb_normalized,lw=1,ls='--',color='#f72585',label=r'$\\eta={:.3f}$'.format(eta),zorder=1)\n",
    "        else:\n",
    "            axPlot.plot(dist_photocenter,sb_normalized,lw=0.5,ls='--',color='#f72585')\n",
    "        \n",
    "    axPlot.set_xlim(xlim)\n",
    "    axPlot.set_ylim(ylim)\n",
    "    axPlot.set_yscale('log')\n",
    " \n",
    "    axPlot.set_xlabel(xlabel)#,fontsize=15)\n",
    "    axPlot.set_ylabel(ylabel)#,fontsize=15)\n",
    "\n",
    "    #plot_legend = plt.legend(loc='lower center',fontsize=14)\n",
    "    plot_legend = plt.legend(fancybox=True, framealpha=1, \n",
    "           shadow=False, borderpad=1.0,#bbox_to_anchor=(.08,.35),\n",
    "           frameon=False, loc='lower center', ncol=1)#,prop={'size': 14},facecolor='none') \n",
    "    plot_legend.get_frame().set_edgecolor('#000000')\n",
    "    plt.grid(alpha=0.3)\n",
    "    #plt.draw()\n",
    "\n",
    "    \n",
    "    print('{:s} - Generating plot of eta sequence complete.'.format(datetime.datetime.today().strftime('%Y-%m-%d %H:%M:%S')))\n",
    "    return None\n"
   ]
  },
  {
   "cell_type": "code",
   "execution_count": 6,
   "id": "ff20a834",
   "metadata": {},
   "outputs": [
    {
     "name": "stdout",
     "output_type": "stream",
     "text": [
      "2024-11-14 13:57:19 - Generating plot of eta sequence...\n",
      "2024-11-14 13:57:19 - Generating plot of eta sequence complete.\n"
     ]
    },
    {
     "data": {
      "image/png": "[encoded data removed]",
      "text/plain": [
       "<Figure size 342.52x196.85 with 1 Axes>"
      ]
     },
     "metadata": {
      "needs_background": "light"
     },
     "output_type": "display_data"
    }
   ],
   "source": [
    "#plot_sbps_eta_sequence(base_path,stellar_psf_file,obj_sbp_file,objname,eta_list,x_min,x_max,x_major,x_minor,y_major,y_minor)\n",
    "cm = 1/2.54  # centimeters in inches\n",
    "fig, axs = plt.subplots(1, 1, tight_layout=False,figsize=(8.7*cm,5.*cm),sharex=False,sharey=False\n",
    "                       ,gridspec_kw={'hspace': 0.35, 'wspace': 0.3})\n",
    "plot_sbps_eta_sequence(axs,'./','psf_2001ME1_01.fits','sbp00.plt','2001 ME1',[0.00,0.05,0.10,0.15,0.20,0.25],-1.55,1.55,0.5,0.1,0.02,1.5)\n",
    "\n",
    "\n",
    "plt.savefig('Figure12_Eta_Injection_Vector_shortened.pdf',\n",
    "            format='pdf',bbox_inches='tight', dpi=600)\n",
    "\n"
   ]
  },
  {
   "cell_type": "code",
   "execution_count": null,
   "id": "5b650949",
   "metadata": {},
   "outputs": [],
   "source": []
  }
 ],
 "metadata": {
  "kernelspec": {
   "display_name": "Python 3 (ipykernel)",
   "language": "python",
   "name": "python3"
  },
  "language_info": {
   "codemirror_mode": {
    "name": "ipython",
    "version": 3
   },
   "file_extension": ".py",
   "mimetype": "text/x-python",
   "name": "python",
   "nbconvert_exporter": "python",
   "pygments_lexer": "ipython3",
   "version": "3.9.13"
  }
 },
 "nbformat": 4,
 "nbformat_minor": 5
}
